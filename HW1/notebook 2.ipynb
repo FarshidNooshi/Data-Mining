{
 "cells": [
  {
   "cell_type": "markdown",
   "metadata": {},
   "source": [
    "<div align=\"center\">\n",
    "<h1>In The Name Of GOD</h1>\n",
    "</div>"
   ]
  },
  {
   "cell_type": "markdown",
   "metadata": {},
   "source": [
    "# HW1 - Data Mining - Notebook 2"
   ]
  },
  {
   "cell_type": "markdown",
   "metadata": {},
   "source": [
    "## 1. Regression"
   ]
  },
  {
   "cell_type": "markdown",
   "metadata": {},
   "source": [
    "### Importing Libraries"
   ]
  },
  {
   "cell_type": "code",
   "execution_count": 60,
   "metadata": {},
   "outputs": [],
   "source": [
    "import pandas as pd\n",
    "import numpy as np\n",
    "from matplotlib import pyplot as plt"
   ]
  },
  {
   "cell_type": "markdown",
   "metadata": {},
   "source": [
    "### Reading Data from the `GOOGL.csv` file"
   ]
  },
  {
   "cell_type": "code",
   "execution_count": 61,
   "metadata": {},
   "outputs": [
    {
     "data": {
      "text/html": [
       "<div>\n",
       "<style scoped>\n",
       "    .dataframe tbody tr th:only-of-type {\n",
       "        vertical-align: middle;\n",
       "    }\n",
       "\n",
       "    .dataframe tbody tr th {\n",
       "        vertical-align: top;\n",
       "    }\n",
       "\n",
       "    .dataframe thead th {\n",
       "        text-align: right;\n",
       "    }\n",
       "</style>\n",
       "<table border=\"1\" class=\"dataframe\">\n",
       "  <thead>\n",
       "    <tr style=\"text-align: right;\">\n",
       "      <th></th>\n",
       "      <th>Open</th>\n",
       "    </tr>\n",
       "  </thead>\n",
       "  <tbody>\n",
       "    <tr>\n",
       "      <th>0</th>\n",
       "      <td>211.47</td>\n",
       "    </tr>\n",
       "    <tr>\n",
       "      <th>1</th>\n",
       "      <td>222.17</td>\n",
       "    </tr>\n",
       "    <tr>\n",
       "      <th>2</th>\n",
       "      <td>223.22</td>\n",
       "    </tr>\n",
       "    <tr>\n",
       "      <th>3</th>\n",
       "      <td>228.66</td>\n",
       "    </tr>\n",
       "    <tr>\n",
       "      <th>4</th>\n",
       "      <td>233.44</td>\n",
       "    </tr>\n",
       "  </tbody>\n",
       "</table>\n",
       "</div>"
      ],
      "text/plain": [
       "     Open\n",
       "0  211.47\n",
       "1  222.17\n",
       "2  223.22\n",
       "3  228.66\n",
       "4  233.44"
      ]
     },
     "execution_count": 61,
     "metadata": {},
     "output_type": "execute_result"
    }
   ],
   "source": [
    "# Read the data\n",
    "df = pd.read_csv('GOOGL.csv', sep=',', usecols=['Open'])\n",
    "\n",
    "df.head()"
   ]
  },
  {
   "cell_type": "markdown",
   "metadata": {},
   "source": [
    "### Taking the last 10 rows as test data and the rest as training data"
   ]
  },
  {
   "cell_type": "code",
   "execution_count": 62,
   "metadata": {},
   "outputs": [],
   "source": [
    "train, test = df[:-10], df[-10:]"
   ]
  },
  {
   "cell_type": "markdown",
   "metadata": {},
   "source": [
    "### Creating a linear regression model and fitting it to the training data and predicting the test data"
   ]
  },
  {
   "cell_type": "markdown",
   "metadata": {},
   "source": [
    "#### defining required functions"
   ]
  },
  {
   "cell_type": "code",
   "execution_count": 107,
   "metadata": {},
   "outputs": [],
   "source": [
    "def get_matrix(data_frame):\n",
    "    data_size = data_frame.size\n",
    "    mat = np.zeros((data_size,2))\n",
    "    for i in range(data_size):\n",
    "        mat[i,0] = i;\n",
    "        mat[i,1] = data_frame.iloc[i,0];\n",
    "    return mat\n",
    "\n",
    "def find_less_min_square(A, B):\n",
    "    return np.linalg.solve(np.matmul(A.T, A), np.matmul(A.T, B))\n",
    "\n",
    "def calc_error(A,X,expected_y):\n",
    "\treturn np.matmul(A,X) - expected_y\n",
    "\n",
    "def calc_error_norm(A,X,expected_y):\n",
    "\treturn np.linalg.norm(np.matmul(A,X) - expected_y)\n",
    "\n",
    "\n",
    "def print_single_result(A, X, err, expected_y):\n",
    "\tprint(f'Day {int(A[1])}')\n",
    "\tprint(f'Calculated Value: {X[0]}')\n",
    "\tprint(f'Actual Value: {expected_y[0]}')\n",
    "\tprint(f'error: {err[0]}')\n",
    "\tprint(\"---------------------------------------\")\n",
    "\n",
    "def plot_result(X, Y, size):\n",
    "\tdays = [i for i in range(size)]\n",
    "\tplt.figure()\n",
    "\tplt.plot(days, Y, 'ro', label='Actual Value', markersize=1, linewidth=0.1, linestyle='solid', alpha=0.8)\n",
    "\tplt.plot(days, X, 'b', label='Calculated Value', markersize=6, linewidth=2, linestyle='solid')\n",
    "\tplt.show()\n",
    "\n",
    "def show_result(A,X,Y,err,size):\n",
    "\tfor i in range (size-10,size):\n",
    "\t\tprint_single_result(A[i],X[i],err[i],Y[i])\n",
    "\tprint(\"---------------------------------------\")\n",
    "\tplot_result(X, Y, size)"
   ]
  },
  {
   "cell_type": "code",
   "execution_count": 108,
   "metadata": {},
   "outputs": [],
   "source": [
    "matrix = get_matrix(df)\n",
    "y_matrix = matrix[:df.size,1].reshape(-1,1)"
   ]
  },
  {
   "cell_type": "markdown",
   "metadata": {},
   "source": [
    "### Calculating the Linear Solution"
   ]
  },
  {
   "cell_type": "code",
   "execution_count": 109,
   "metadata": {},
   "outputs": [],
   "source": [
    "linear_x_matrix = np.hstack((np.ones((df.size,1)), matrix[:df.size,0].reshape(-1,1)));\n",
    "linear_solution = find_less_min_square(linear_x_matrix[:df.size-10], y_matrix[:df.size-10])\n",
    "linear_err = calc_error(linear_x_matrix, linear_solution, y_matrix)\n",
    "linear_estimated_values = np.matmul(linear_x_matrix, linear_solution)\n",
    "norm_linear_err = calc_error_norm(linear_x_matrix, linear_solution, y_matrix)"
   ]
  },
  {
   "cell_type": "code",
   "execution_count": 110,
   "metadata": {},
   "outputs": [
    {
     "name": "stdout",
     "output_type": "stream",
     "text": [
      "Day 3009\n",
      "Calculated Value: 790.6169160846346\n",
      "Actual Value: 1063.78\n",
      "error: -273.1630839153654\n",
      "---------------------------------------\n",
      "Day 3010\n",
      "Calculated Value: 790.8591419254949\n",
      "Actual Value: 1076.45\n",
      "error: -285.59085807450515\n",
      "---------------------------------------\n",
      "Day 3011\n",
      "Calculated Value: 791.1013677663552\n",
      "Actual Value: 1083.02\n",
      "error: -291.91863223364476\n",
      "---------------------------------------\n",
      "Day 3012\n",
      "Calculated Value: 791.3435936072154\n",
      "Actual Value: 1080.92\n",
      "error: -289.57640639278463\n",
      "---------------------------------------\n",
      "Day 3013\n",
      "Calculated Value: 791.5858194480758\n",
      "Actual Value: 1075.39\n",
      "error: -283.80418055192433\n",
      "---------------------------------------\n",
      "Day 3014\n",
      "Calculated Value: 791.8280452889361\n",
      "Actual Value: 1070.0\n",
      "error: -278.1719547110639\n",
      "---------------------------------------\n",
      "Day 3015\n",
      "Calculated Value: 792.0702711297963\n",
      "Actual Value: 1068.64\n",
      "error: -276.5697288702038\n",
      "---------------------------------------\n",
      "Day 3016\n",
      "Calculated Value: 792.3124969706566\n",
      "Actual Value: 1066.6\n",
      "error: -274.28750302934327\n",
      "---------------------------------------\n",
      "Day 3017\n",
      "Calculated Value: 792.554722811517\n",
      "Actual Value: 1062.25\n",
      "error: -269.69527718848303\n",
      "---------------------------------------\n",
      "Day 3018\n",
      "Calculated Value: 792.7969486523772\n",
      "Actual Value: 1055.49\n",
      "error: -262.6930513476228\n",
      "---------------------------------------\n",
      "---------------------------------------\n"
     ]
    },
    {
     "data": {
      "image/png": "[encoded data removed]",
      "text/plain": [
       "<Figure size 432x288 with 1 Axes>"
      ]
     },
     "metadata": {
      "needs_background": "light"
     },
     "output_type": "display_data"
    }
   ],
   "source": [
    "show_result(linear_x_matrix, linear_estimated_values, y_matrix, linear_err, df.size)"
   ]
  },
  {
   "cell_type": "markdown",
   "metadata": {},
   "source": [
    "### Calculating the Polynomial Solution"
   ]
  },
  {
   "cell_type": "code",
   "execution_count": 111,
   "metadata": {},
   "outputs": [],
   "source": [
    "polynomial_x_matrix = np.hstack((np.ones((data_size,1)), matrix[:data_size,0].reshape(-1,1),matrix[:data_size,0].reshape(-1,1)**2));\n",
    "polynomial_solution = find_less_min_square(polynomial_x_matrix[:data_size-10], y_matrix[:data_size-10])\n",
    "polynomial_err = calc_error(polynomial_x_matrix, polynomial_solution, y_matrix)\n",
    "polynomial_estimated_values = np.matmul(polynomial_x_matrix, polynomial_solution)\n",
    "norm_polynomial_err = calc_error_norm(polynomial_x_matrix, polynomial_solution, y_matrix)"
   ]
  },
  {
   "cell_type": "code",
   "execution_count": 112,
   "metadata": {},
   "outputs": [
    {
     "name": "stdout",
     "output_type": "stream",
     "text": [
      "Day 3009\n",
      "Calculated Value: 993.8680182228164\n",
      "Actual Value: 1063.78\n",
      "error: -69.91198177718354\n",
      "---------------------------------------\n",
      "Day 3010\n",
      "Calculated Value: 994.5153957622911\n",
      "Actual Value: 1076.45\n",
      "error: -81.93460423770898\n",
      "---------------------------------------\n",
      "Day 3011\n",
      "Calculated Value: 995.1630424161453\n",
      "Actual Value: 1083.02\n",
      "error: -87.85695758385464\n",
      "---------------------------------------\n",
      "Day 3012\n",
      "Calculated Value: 995.8109581843793\n",
      "Actual Value: 1080.92\n",
      "error: -85.1090418156208\n",
      "---------------------------------------\n",
      "Day 3013\n",
      "Calculated Value: 996.459143066993\n",
      "Actual Value: 1075.39\n",
      "error: -78.93085693300714\n",
      "---------------------------------------\n",
      "Day 3014\n",
      "Calculated Value: 997.1075970639863\n",
      "Actual Value: 1070.0\n",
      "error: -72.8924029360137\n",
      "---------------------------------------\n",
      "Day 3015\n",
      "Calculated Value: 997.7563201753593\n",
      "Actual Value: 1068.64\n",
      "error: -70.88367982464081\n",
      "---------------------------------------\n",
      "Day 3016\n",
      "Calculated Value: 998.405312401112\n",
      "Actual Value: 1066.6\n",
      "error: -68.19468759888787\n",
      "---------------------------------------\n",
      "Day 3017\n",
      "Calculated Value: 999.0545737412444\n",
      "Actual Value: 1062.25\n",
      "error: -63.19542625875556\n",
      "---------------------------------------\n",
      "Day 3018\n",
      "Calculated Value: 999.7041041957565\n",
      "Actual Value: 1055.49\n",
      "error: -55.78589580424352\n",
      "---------------------------------------\n",
      "---------------------------------------\n"
     ]
    },
    {
     "data": {
      "image/png": "[encoded data removed]",
      "text/plain": [
       "<Figure size 432x288 with 1 Axes>"
      ]
     },
     "metadata": {
      "needs_background": "light"
     },
     "output_type": "display_data"
    }
   ],
   "source": [
    "show_result(polynomial_x_matrix, polynomial_estimated_values, y_matrix, polynomial_err, data_size)"
   ]
  },
  {
   "cell_type": "code",
   "execution_count": 98,
   "metadata": {},
   "outputs": [
    {
     "name": "stdout",
     "output_type": "stream",
     "text": [
      "Norm of Linear model error: 5655.07796892809\n",
      "Norm of Polynomial model error: 2539.0369706384554\n",
      "Total linear error: 269631.13335642894\n",
      "Total polynomial error: 112678.33208404752\n"
     ]
    }
   ],
   "source": [
    "print(f'Norm of Linear model error: {norm_linear_err}')\n",
    "print(f'Norm of Polynomial model error: {norm_polynomial_err}')\n",
    "\n",
    "print(f'Total linear error: {np.sum(np.abs(linear_err))}')\n",
    "print(f'Total polynomial error: {np.sum(np.abs(polynomial_err))}')"
   ]
  },
  {
   "cell_type": "code",
   "execution_count": null,
   "metadata": {},
   "outputs": [],
   "source": []
  }
 ],
 "metadata": {
  "kernelspec": {
   "display_name": "Python 3.9.12",
   "language": "python",
   "name": "python3"
  },
  "language_info": {
   "codemirror_mode": {
    "name": "ipython",
    "version": 3
   },
   "file_extension": ".py",
   "mimetype": "text/x-python",
   "name": "python",
   "nbconvert_exporter": "python",
   "pygments_lexer": "ipython3",
   "version": "3.9.12"
  },
  "orig_nbformat": 4,
  "vscode": {
   "interpreter": {
    "hash": "465bf8bf39eb6d29a2a62c1b7df28f314b583a714539b89eff15d00bb86422b4"
   }
  }
 },
 "nbformat": 4,
 "nbformat_minor": 2
}
