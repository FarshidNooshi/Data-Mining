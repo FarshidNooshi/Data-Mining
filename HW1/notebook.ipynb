{
 "cells": [
  {
   "cell_type": "markdown",
   "metadata": {},
   "source": [
    "<div align=\"center\">\n",
    "<h1>In The Name Of GOD</h1>\n",
    "</div>"
   ]
  },
  {
   "cell_type": "markdown",
   "metadata": {},
   "source": [
    "# HW1 - Data Mining\n",
    "\n",
    "## 1. Overfitting"
   ]
  },
  {
   "cell_type": "markdown",
   "metadata": {},
   "source": [
    "### 1.1. Overfitting in Linear Regression"
   ]
  },
  {
   "cell_type": "code",
   "execution_count": 11,
   "metadata": {},
   "outputs": [],
   "source": [
    "import pandas as pd"
   ]
  },
  {
   "cell_type": "markdown",
   "metadata": {},
   "source": [
    "Read the data from the file `IMDB-Movie-Data.csv` and store it in a pandas DataFrame.\n"
   ]
  },
  {
   "cell_type": "code",
   "execution_count": 12,
   "metadata": {},
   "outputs": [
    {
     "data": {
      "text/html": [
       "<div>\n",
       "<style scoped>\n",
       "    .dataframe tbody tr th:only-of-type {\n",
       "        vertical-align: middle;\n",
       "    }\n",
       "\n",
       "    .dataframe tbody tr th {\n",
       "        vertical-align: top;\n",
       "    }\n",
       "\n",
       "    .dataframe thead th {\n",
       "        text-align: right;\n",
       "    }\n",
       "</style>\n",
       "<table border=\"1\" class=\"dataframe\">\n",
       "  <thead>\n",
       "    <tr style=\"text-align: right;\">\n",
       "      <th></th>\n",
       "      <th>Rank</th>\n",
       "      <th>Title</th>\n",
       "      <th>Genre</th>\n",
       "      <th>Description</th>\n",
       "      <th>Director</th>\n",
       "      <th>Actors</th>\n",
       "      <th>Year</th>\n",
       "      <th>Runtime (Minutes)</th>\n",
       "      <th>Rating</th>\n",
       "      <th>Votes</th>\n",
       "      <th>Revenue (Millions)</th>\n",
       "      <th>Metascore</th>\n",
       "    </tr>\n",
       "  </thead>\n",
       "  <tbody>\n",
       "    <tr>\n",
       "      <th>0</th>\n",
       "      <td>1</td>\n",
       "      <td>Guardians of the Galaxy</td>\n",
       "      <td>Action,Adventure,Sci-Fi</td>\n",
       "      <td>A group of intergalactic criminals are forced ...</td>\n",
       "      <td>James Gunn</td>\n",
       "      <td>Chris Pratt, Vin Diesel, Bradley Cooper, Zoe S...</td>\n",
       "      <td>2014</td>\n",
       "      <td>121</td>\n",
       "      <td>8.1</td>\n",
       "      <td>757074</td>\n",
       "      <td>333.13</td>\n",
       "      <td>76.0</td>\n",
       "    </tr>\n",
       "    <tr>\n",
       "      <th>1</th>\n",
       "      <td>2</td>\n",
       "      <td>Prometheus</td>\n",
       "      <td>Adventure,Mystery,Sci-Fi</td>\n",
       "      <td>Following clues to the origin of mankind, a te...</td>\n",
       "      <td>Ridley Scott</td>\n",
       "      <td>Noomi Rapace, Logan Marshall-Green, Michael Fa...</td>\n",
       "      <td>2012</td>\n",
       "      <td>124</td>\n",
       "      <td>7.0</td>\n",
       "      <td>485820</td>\n",
       "      <td>126.46</td>\n",
       "      <td>65.0</td>\n",
       "    </tr>\n",
       "    <tr>\n",
       "      <th>2</th>\n",
       "      <td>3</td>\n",
       "      <td>Split</td>\n",
       "      <td>Horror,Thriller</td>\n",
       "      <td>Three girls are kidnapped by a man with a diag...</td>\n",
       "      <td>M. Night Shyamalan</td>\n",
       "      <td>James McAvoy, Anya Taylor-Joy, Haley Lu Richar...</td>\n",
       "      <td>2016</td>\n",
       "      <td>117</td>\n",
       "      <td>7.3</td>\n",
       "      <td>157606</td>\n",
       "      <td>138.12</td>\n",
       "      <td>62.0</td>\n",
       "    </tr>\n",
       "    <tr>\n",
       "      <th>3</th>\n",
       "      <td>4</td>\n",
       "      <td>Sing</td>\n",
       "      <td>Animation,Comedy,Family</td>\n",
       "      <td>In a city of humanoid animals, a hustling thea...</td>\n",
       "      <td>Christophe Lourdelet</td>\n",
       "      <td>Matthew McConaughey,Reese Witherspoon, Seth Ma...</td>\n",
       "      <td>2016</td>\n",
       "      <td>108</td>\n",
       "      <td>7.2</td>\n",
       "      <td>60545</td>\n",
       "      <td>270.32</td>\n",
       "      <td>59.0</td>\n",
       "    </tr>\n",
       "    <tr>\n",
       "      <th>4</th>\n",
       "      <td>5</td>\n",
       "      <td>Suicide Squad</td>\n",
       "      <td>Action,Adventure,Fantasy</td>\n",
       "      <td>A secret government agency recruits some of th...</td>\n",
       "      <td>David Ayer</td>\n",
       "      <td>Will Smith, Jared Leto, Margot Robbie, Viola D...</td>\n",
       "      <td>2016</td>\n",
       "      <td>123</td>\n",
       "      <td>6.2</td>\n",
       "      <td>393727</td>\n",
       "      <td>325.02</td>\n",
       "      <td>40.0</td>\n",
       "    </tr>\n",
       "    <tr>\n",
       "      <th>5</th>\n",
       "      <td>6</td>\n",
       "      <td>The Great Wall</td>\n",
       "      <td>Action,Adventure,Fantasy</td>\n",
       "      <td>European mercenaries searching for black powde...</td>\n",
       "      <td>Yimou Zhang</td>\n",
       "      <td>Matt Damon, Tian Jing, Willem Dafoe, Andy Lau</td>\n",
       "      <td>2016</td>\n",
       "      <td>103</td>\n",
       "      <td>6.1</td>\n",
       "      <td>56036</td>\n",
       "      <td>45.13</td>\n",
       "      <td>42.0</td>\n",
       "    </tr>\n",
       "    <tr>\n",
       "      <th>6</th>\n",
       "      <td>7</td>\n",
       "      <td>La La Land</td>\n",
       "      <td>Comedy,Drama,Music</td>\n",
       "      <td>A jazz pianist falls for an aspiring actress i...</td>\n",
       "      <td>Damien Chazelle</td>\n",
       "      <td>Ryan Gosling, Emma Stone, Rosemarie DeWitt, J....</td>\n",
       "      <td>2016</td>\n",
       "      <td>128</td>\n",
       "      <td>8.3</td>\n",
       "      <td>258682</td>\n",
       "      <td>151.06</td>\n",
       "      <td>93.0</td>\n",
       "    </tr>\n",
       "    <tr>\n",
       "      <th>7</th>\n",
       "      <td>8</td>\n",
       "      <td>Mindhorn</td>\n",
       "      <td>Comedy</td>\n",
       "      <td>A has-been actor best known for playing the ti...</td>\n",
       "      <td>Sean Foley</td>\n",
       "      <td>Essie Davis, Andrea Riseborough, Julian Barrat...</td>\n",
       "      <td>2016</td>\n",
       "      <td>89</td>\n",
       "      <td>6.4</td>\n",
       "      <td>2490</td>\n",
       "      <td>NaN</td>\n",
       "      <td>71.0</td>\n",
       "    </tr>\n",
       "    <tr>\n",
       "      <th>8</th>\n",
       "      <td>9</td>\n",
       "      <td>The Lost City of Z</td>\n",
       "      <td>Action,Adventure,Biography</td>\n",
       "      <td>A true-life drama, centering on British explor...</td>\n",
       "      <td>James Gray</td>\n",
       "      <td>Charlie Hunnam, Robert Pattinson, Sienna Mille...</td>\n",
       "      <td>2016</td>\n",
       "      <td>141</td>\n",
       "      <td>7.1</td>\n",
       "      <td>7188</td>\n",
       "      <td>8.01</td>\n",
       "      <td>78.0</td>\n",
       "    </tr>\n",
       "    <tr>\n",
       "      <th>9</th>\n",
       "      <td>10</td>\n",
       "      <td>Passengers</td>\n",
       "      <td>Adventure,Drama,Romance</td>\n",
       "      <td>A spacecraft traveling to a distant colony pla...</td>\n",
       "      <td>Morten Tyldum</td>\n",
       "      <td>Jennifer Lawrence, Chris Pratt, Michael Sheen,...</td>\n",
       "      <td>2016</td>\n",
       "      <td>116</td>\n",
       "      <td>7.0</td>\n",
       "      <td>192177</td>\n",
       "      <td>100.01</td>\n",
       "      <td>41.0</td>\n",
       "    </tr>\n",
       "  </tbody>\n",
       "</table>\n",
       "</div>"
      ],
      "text/plain": [
       "   Rank                    Title                       Genre  \\\n",
       "0     1  Guardians of the Galaxy     Action,Adventure,Sci-Fi   \n",
       "1     2               Prometheus    Adventure,Mystery,Sci-Fi   \n",
       "2     3                    Split             Horror,Thriller   \n",
       "3     4                     Sing     Animation,Comedy,Family   \n",
       "4     5            Suicide Squad    Action,Adventure,Fantasy   \n",
       "5     6           The Great Wall    Action,Adventure,Fantasy   \n",
       "6     7               La La Land          Comedy,Drama,Music   \n",
       "7     8                 Mindhorn                      Comedy   \n",
       "8     9       The Lost City of Z  Action,Adventure,Biography   \n",
       "9    10               Passengers     Adventure,Drama,Romance   \n",
       "\n",
       "                                         Description              Director  \\\n",
       "0  A group of intergalactic criminals are forced ...            James Gunn   \n",
       "1  Following clues to the origin of mankind, a te...          Ridley Scott   \n",
       "2  Three girls are kidnapped by a man with a diag...    M. Night Shyamalan   \n",
       "3  In a city of humanoid animals, a hustling thea...  Christophe Lourdelet   \n",
       "4  A secret government agency recruits some of th...            David Ayer   \n",
       "5  European mercenaries searching for black powde...           Yimou Zhang   \n",
       "6  A jazz pianist falls for an aspiring actress i...       Damien Chazelle   \n",
       "7  A has-been actor best known for playing the ti...            Sean Foley   \n",
       "8  A true-life drama, centering on British explor...            James Gray   \n",
       "9  A spacecraft traveling to a distant colony pla...         Morten Tyldum   \n",
       "\n",
       "                                              Actors  Year  Runtime (Minutes)  \\\n",
       "0  Chris Pratt, Vin Diesel, Bradley Cooper, Zoe S...  2014                121   \n",
       "1  Noomi Rapace, Logan Marshall-Green, Michael Fa...  2012                124   \n",
       "2  James McAvoy, Anya Taylor-Joy, Haley Lu Richar...  2016                117   \n",
       "3  Matthew McConaughey,Reese Witherspoon, Seth Ma...  2016                108   \n",
       "4  Will Smith, Jared Leto, Margot Robbie, Viola D...  2016                123   \n",
       "5      Matt Damon, Tian Jing, Willem Dafoe, Andy Lau  2016                103   \n",
       "6  Ryan Gosling, Emma Stone, Rosemarie DeWitt, J....  2016                128   \n",
       "7  Essie Davis, Andrea Riseborough, Julian Barrat...  2016                 89   \n",
       "8  Charlie Hunnam, Robert Pattinson, Sienna Mille...  2016                141   \n",
       "9  Jennifer Lawrence, Chris Pratt, Michael Sheen,...  2016                116   \n",
       "\n",
       "   Rating   Votes  Revenue (Millions)  Metascore  \n",
       "0     8.1  757074              333.13       76.0  \n",
       "1     7.0  485820              126.46       65.0  \n",
       "2     7.3  157606              138.12       62.0  \n",
       "3     7.2   60545              270.32       59.0  \n",
       "4     6.2  393727              325.02       40.0  \n",
       "5     6.1   56036               45.13       42.0  \n",
       "6     8.3  258682              151.06       93.0  \n",
       "7     6.4    2490                 NaN       71.0  \n",
       "8     7.1    7188                8.01       78.0  \n",
       "9     7.0  192177              100.01       41.0  "
      ]
     },
     "execution_count": 12,
     "metadata": {},
     "output_type": "execute_result"
    }
   ],
   "source": [
    "df = pd.read_csv(\"IMDB-Movie-Data.csv\") \n",
    "\n",
    "df.head(10)"
   ]
  },
  {
   "cell_type": "markdown",
   "metadata": {},
   "source": [
    "From the information of the DataFrame, we can see that the `Revenue (Millions)` and `Metascore` columns have missing values. We can fill the missing values with the mean of the column."
   ]
  },
  {
   "cell_type": "code",
   "execution_count": 13,
   "metadata": {},
   "outputs": [
    {
     "name": "stdout",
     "output_type": "stream",
     "text": [
      "<class 'pandas.core.frame.DataFrame'>\n",
      "RangeIndex: 1000 entries, 0 to 999\n",
      "Data columns (total 12 columns):\n",
      " #   Column              Non-Null Count  Dtype  \n",
      "---  ------              --------------  -----  \n",
      " 0   Rank                1000 non-null   int64  \n",
      " 1   Title               1000 non-null   object \n",
      " 2   Genre               1000 non-null   object \n",
      " 3   Description         1000 non-null   object \n",
      " 4   Director            1000 non-null   object \n",
      " 5   Actors              1000 non-null   object \n",
      " 6   Year                1000 non-null   int64  \n",
      " 7   Runtime (Minutes)   1000 non-null   int64  \n",
      " 8   Rating              1000 non-null   float64\n",
      " 9   Votes               1000 non-null   int64  \n",
      " 10  Revenue (Millions)  872 non-null    float64\n",
      " 11  Metascore           936 non-null    float64\n",
      "dtypes: float64(3), int64(4), object(5)\n",
      "memory usage: 93.9+ KB\n"
     ]
    }
   ],
   "source": [
    "df.info()"
   ]
  },
  {
   "cell_type": "markdown",
   "metadata": {},
   "source": [
    "Finding rows with two or more missing values. We can see that there are 30 rows with two or more missing values."
   ]
  },
  {
   "cell_type": "code",
   "execution_count": 14,
   "metadata": {},
   "outputs": [
    {
     "name": "stdout",
     "output_type": "stream",
     "text": [
      "(30, 12)\n"
     ]
    }
   ],
   "source": [
    "target_rows = df[df.isnull().sum(axis=1) >= 2]\n",
    "\n",
    "print(target_rows.shape)"
   ]
  },
  {
   "cell_type": "markdown",
   "metadata": {},
   "source": [
    "Drop the rows with two or more missing values."
   ]
  },
  {
   "cell_type": "code",
   "execution_count": 15,
   "metadata": {},
   "outputs": [
    {
     "name": "stdout",
     "output_type": "stream",
     "text": [
      "<class 'pandas.core.frame.DataFrame'>\n",
      "Int64Index: 970 entries, 0 to 999\n",
      "Data columns (total 12 columns):\n",
      " #   Column              Non-Null Count  Dtype  \n",
      "---  ------              --------------  -----  \n",
      " 0   Rank                970 non-null    int64  \n",
      " 1   Title               970 non-null    object \n",
      " 2   Genre               970 non-null    object \n",
      " 3   Description         970 non-null    object \n",
      " 4   Director            970 non-null    object \n",
      " 5   Actors              970 non-null    object \n",
      " 6   Year                970 non-null    int64  \n",
      " 7   Runtime (Minutes)   970 non-null    int64  \n",
      " 8   Rating              970 non-null    float64\n",
      " 9   Votes               970 non-null    int64  \n",
      " 10  Revenue (Millions)  872 non-null    float64\n",
      " 11  Metascore           936 non-null    float64\n",
      "dtypes: float64(3), int64(4), object(5)\n",
      "memory usage: 98.5+ KB\n"
     ]
    }
   ],
   "source": [
    "df.drop(target_rows.index, inplace=True)\n",
    "\n",
    "df.info()"
   ]
  },
  {
   "cell_type": "markdown",
   "metadata": {},
   "source": [
    "Replacing the missing values of the `Revenue (Millions)` column with the mean of the column."
   ]
  },
  {
   "cell_type": "code",
   "execution_count": 17,
   "metadata": {},
   "outputs": [
    {
     "name": "stdout",
     "output_type": "stream",
     "text": [
      "<class 'pandas.core.frame.DataFrame'>\n",
      "Int64Index: 970 entries, 0 to 999\n",
      "Data columns (total 12 columns):\n",
      " #   Column              Non-Null Count  Dtype  \n",
      "---  ------              --------------  -----  \n",
      " 0   Rank                970 non-null    int64  \n",
      " 1   Title               970 non-null    object \n",
      " 2   Genre               970 non-null    object \n",
      " 3   Description         970 non-null    object \n",
      " 4   Director            970 non-null    object \n",
      " 5   Actors              970 non-null    object \n",
      " 6   Year                970 non-null    int64  \n",
      " 7   Runtime (Minutes)   970 non-null    int64  \n",
      " 8   Rating              970 non-null    float64\n",
      " 9   Votes               970 non-null    int64  \n",
      " 10  Revenue (Millions)  970 non-null    float64\n",
      " 11  Metascore           936 non-null    float64\n",
      "dtypes: float64(3), int64(4), object(5)\n",
      "memory usage: 98.5+ KB\n"
     ]
    }
   ],
   "source": [
    "df['Revenue (Millions)'].fillna(df['Revenue (Millions)'].mean(), inplace=True)\n",
    "\n",
    "df.info()"
   ]
  },
  {
   "cell_type": "code",
   "execution_count": null,
   "metadata": {},
   "outputs": [],
   "source": []
  }
 ],
 "metadata": {
  "kernelspec": {
   "display_name": "Python 3.9.12",
   "language": "python",
   "name": "python3"
  },
  "language_info": {
   "codemirror_mode": {
    "name": "ipython",
    "version": 3
   },
   "file_extension": ".py",
   "mimetype": "text/x-python",
   "name": "python",
   "nbconvert_exporter": "python",
   "pygments_lexer": "ipython3",
   "version": "3.9.12"
  },
  "orig_nbformat": 4,
  "vscode": {
   "interpreter": {
    "hash": "465bf8bf39eb6d29a2a62c1b7df28f314b583a714539b89eff15d00bb86422b4"
   }
  }
 },
 "nbformat": 4,
 "nbformat_minor": 2
}
